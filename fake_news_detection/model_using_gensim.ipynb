{
 "cells": [
  {
   "cell_type": "code",
   "execution_count": 3,
   "id": "4368fa23",
   "metadata": {},
   "outputs": [
    {
     "name": "stdout",
     "output_type": "stream",
     "text": [
      "[=================================================-] 99.9% 1661.8/1662.8MB downloaded\n"
     ]
    }
   ],
   "source": [
    "import gensim.downloader as api\n",
    "wv = api.load(\"word2vec-google-news-300\")"
   ]
  },
  {
   "cell_type": "code",
   "execution_count": 2,
   "id": "86886834",
   "metadata": {},
   "outputs": [],
   "source": [
    "import pandas as pd\n",
    "import numpy as np"
   ]
  },
  {
   "cell_type": "code",
   "execution_count": 4,
   "id": "a3037a04",
   "metadata": {},
   "outputs": [
    {
     "data": {
      "text/html": [
       "<div>\n",
       "<style scoped>\n",
       "    .dataframe tbody tr th:only-of-type {\n",
       "        vertical-align: middle;\n",
       "    }\n",
       "\n",
       "    .dataframe tbody tr th {\n",
       "        vertical-align: top;\n",
       "    }\n",
       "\n",
       "    .dataframe thead th {\n",
       "        text-align: right;\n",
       "    }\n",
       "</style>\n",
       "<table border=\"1\" class=\"dataframe\">\n",
       "  <thead>\n",
       "    <tr style=\"text-align: right;\">\n",
       "      <th></th>\n",
       "      <th>Text</th>\n",
       "      <th>label</th>\n",
       "    </tr>\n",
       "  </thead>\n",
       "  <tbody>\n",
       "    <tr>\n",
       "      <th>0</th>\n",
       "      <td>Top Trump Surrogate BRUTALLY Stabs Him In The...</td>\n",
       "      <td>Fake</td>\n",
       "    </tr>\n",
       "    <tr>\n",
       "      <th>1</th>\n",
       "      <td>U.S. conservative leader optimistic of common ...</td>\n",
       "      <td>Real</td>\n",
       "    </tr>\n",
       "    <tr>\n",
       "      <th>2</th>\n",
       "      <td>Trump proposes U.S. tax overhaul, stirs concer...</td>\n",
       "      <td>Real</td>\n",
       "    </tr>\n",
       "    <tr>\n",
       "      <th>3</th>\n",
       "      <td>Court Forces Ohio To Allow Millions Of Illega...</td>\n",
       "      <td>Fake</td>\n",
       "    </tr>\n",
       "    <tr>\n",
       "      <th>4</th>\n",
       "      <td>Democrats say Trump agrees to work on immigrat...</td>\n",
       "      <td>Real</td>\n",
       "    </tr>\n",
       "  </tbody>\n",
       "</table>\n",
       "</div>"
      ],
      "text/plain": [
       "                                                Text label\n",
       "0   Top Trump Surrogate BRUTALLY Stabs Him In The...  Fake\n",
       "1  U.S. conservative leader optimistic of common ...  Real\n",
       "2  Trump proposes U.S. tax overhaul, stirs concer...  Real\n",
       "3   Court Forces Ohio To Allow Millions Of Illega...  Fake\n",
       "4  Democrats say Trump agrees to work on immigrat...  Real"
      ]
     },
     "execution_count": 4,
     "metadata": {},
     "output_type": "execute_result"
    }
   ],
   "source": [
    "ds = pd.read_csv('Fake_Real_Data.csv')\n",
    "ds.head()"
   ]
  },
  {
   "cell_type": "code",
   "execution_count": 13,
   "id": "ede9b0aa",
   "metadata": {},
   "outputs": [
    {
     "data": {
      "text/plain": [
       "Fake    5000\n",
       "Real    4900\n",
       "Name: label, dtype: int64"
      ]
     },
     "execution_count": 13,
     "metadata": {},
     "output_type": "execute_result"
    }
   ],
   "source": [
    "ds['label'].value_counts()"
   ]
  },
  {
   "cell_type": "code",
   "execution_count": 14,
   "id": "997e645e",
   "metadata": {},
   "outputs": [
    {
     "data": {
      "text/html": [
       "<div>\n",
       "<style scoped>\n",
       "    .dataframe tbody tr th:only-of-type {\n",
       "        vertical-align: middle;\n",
       "    }\n",
       "\n",
       "    .dataframe tbody tr th {\n",
       "        vertical-align: top;\n",
       "    }\n",
       "\n",
       "    .dataframe thead th {\n",
       "        text-align: right;\n",
       "    }\n",
       "</style>\n",
       "<table border=\"1\" class=\"dataframe\">\n",
       "  <thead>\n",
       "    <tr style=\"text-align: right;\">\n",
       "      <th></th>\n",
       "      <th>Text</th>\n",
       "      <th>label</th>\n",
       "      <th>new_label</th>\n",
       "    </tr>\n",
       "  </thead>\n",
       "  <tbody>\n",
       "    <tr>\n",
       "      <th>0</th>\n",
       "      <td>Top Trump Surrogate BRUTALLY Stabs Him In The...</td>\n",
       "      <td>Fake</td>\n",
       "      <td>0</td>\n",
       "    </tr>\n",
       "    <tr>\n",
       "      <th>1</th>\n",
       "      <td>U.S. conservative leader optimistic of common ...</td>\n",
       "      <td>Real</td>\n",
       "      <td>1</td>\n",
       "    </tr>\n",
       "    <tr>\n",
       "      <th>2</th>\n",
       "      <td>Trump proposes U.S. tax overhaul, stirs concer...</td>\n",
       "      <td>Real</td>\n",
       "      <td>1</td>\n",
       "    </tr>\n",
       "    <tr>\n",
       "      <th>3</th>\n",
       "      <td>Court Forces Ohio To Allow Millions Of Illega...</td>\n",
       "      <td>Fake</td>\n",
       "      <td>0</td>\n",
       "    </tr>\n",
       "    <tr>\n",
       "      <th>4</th>\n",
       "      <td>Democrats say Trump agrees to work on immigrat...</td>\n",
       "      <td>Real</td>\n",
       "      <td>1</td>\n",
       "    </tr>\n",
       "  </tbody>\n",
       "</table>\n",
       "</div>"
      ],
      "text/plain": [
       "                                                Text label  new_label\n",
       "0   Top Trump Surrogate BRUTALLY Stabs Him In The...  Fake          0\n",
       "1  U.S. conservative leader optimistic of common ...  Real          1\n",
       "2  Trump proposes U.S. tax overhaul, stirs concer...  Real          1\n",
       "3   Court Forces Ohio To Allow Millions Of Illega...  Fake          0\n",
       "4  Democrats say Trump agrees to work on immigrat...  Real          1"
      ]
     },
     "execution_count": 14,
     "metadata": {},
     "output_type": "execute_result"
    }
   ],
   "source": [
    "ds['new_label'] = ds['label'].map({\"Fake\":0,\"Real\":1})\n",
    "ds.head()"
   ]
  },
  {
   "cell_type": "code",
   "execution_count": 15,
   "id": "b6eb8346",
   "metadata": {},
   "outputs": [],
   "source": [
    "import spacy\n",
    "nlp = spacy.load(\"en_core_web_lg\")\n"
   ]
  },
  {
   "cell_type": "code",
   "execution_count": 36,
   "id": "e822349d",
   "metadata": {},
   "outputs": [],
   "source": [
    "def data_cleaning(text):\n",
    "    doc = nlp(text)\n",
    "    filtered_text = []\n",
    "    for token in doc:\n",
    "        if(token.is_punct or token.is_stop):\n",
    "            continue\n",
    "        else :\n",
    "            filtered_text.append(token.lemma_)\n",
    "    return wv.get_mean_vector(filtered_text)"
   ]
  },
  {
   "cell_type": "code",
   "execution_count": 35,
   "id": "4a1009e6",
   "metadata": {},
   "outputs": [
    {
     "data": {
      "text/plain": [
       "['page',\n",
       " 'share',\n",
       " 'good',\n",
       " 'article',\n",
       " 'read',\n",
       " 'topic',\n",
       " 'like',\n",
       " 'health',\n",
       " 'happiness',\n",
       " 'creativity',\n",
       " 'productivity']"
      ]
     },
     "execution_count": 35,
     "metadata": {},
     "output_type": "execute_result"
    }
   ],
   "source": [
    "data_cleaning(\"This page shares my best articles to read on topics like health, happiness, creativity, productivity and more\")"
   ]
  },
  {
   "cell_type": "code",
   "execution_count": 37,
   "id": "ebe6ad69",
   "metadata": {},
   "outputs": [],
   "source": [
    "ds['vector'] = ds['Text'].apply(lambda x: data_cleaning(x))"
   ]
  },
  {
   "cell_type": "code",
   "execution_count": 38,
   "id": "71a76bfd",
   "metadata": {},
   "outputs": [
    {
     "data": {
      "text/html": [
       "<div>\n",
       "<style scoped>\n",
       "    .dataframe tbody tr th:only-of-type {\n",
       "        vertical-align: middle;\n",
       "    }\n",
       "\n",
       "    .dataframe tbody tr th {\n",
       "        vertical-align: top;\n",
       "    }\n",
       "\n",
       "    .dataframe thead th {\n",
       "        text-align: right;\n",
       "    }\n",
       "</style>\n",
       "<table border=\"1\" class=\"dataframe\">\n",
       "  <thead>\n",
       "    <tr style=\"text-align: right;\">\n",
       "      <th></th>\n",
       "      <th>Text</th>\n",
       "      <th>label</th>\n",
       "      <th>new_label</th>\n",
       "      <th>vector</th>\n",
       "    </tr>\n",
       "  </thead>\n",
       "  <tbody>\n",
       "    <tr>\n",
       "      <th>0</th>\n",
       "      <td>Top Trump Surrogate BRUTALLY Stabs Him In The...</td>\n",
       "      <td>Fake</td>\n",
       "      <td>0</td>\n",
       "      <td>[0.008657642, 0.019024342, -0.011917442, 0.032...</td>\n",
       "    </tr>\n",
       "    <tr>\n",
       "      <th>1</th>\n",
       "      <td>U.S. conservative leader optimistic of common ...</td>\n",
       "      <td>Real</td>\n",
       "      <td>1</td>\n",
       "      <td>[0.010864096, 0.007960429, 0.0011915653, 0.014...</td>\n",
       "    </tr>\n",
       "    <tr>\n",
       "      <th>2</th>\n",
       "      <td>Trump proposes U.S. tax overhaul, stirs concer...</td>\n",
       "      <td>Real</td>\n",
       "      <td>1</td>\n",
       "      <td>[0.018134918, 0.0062743523, -0.005872244, 0.03...</td>\n",
       "    </tr>\n",
       "    <tr>\n",
       "      <th>3</th>\n",
       "      <td>Court Forces Ohio To Allow Millions Of Illega...</td>\n",
       "      <td>Fake</td>\n",
       "      <td>0</td>\n",
       "      <td>[0.01255197, 0.012613623, 5.9780963e-05, 0.021...</td>\n",
       "    </tr>\n",
       "    <tr>\n",
       "      <th>4</th>\n",
       "      <td>Democrats say Trump agrees to work on immigrat...</td>\n",
       "      <td>Real</td>\n",
       "      <td>1</td>\n",
       "      <td>[-0.0019059887, 0.011889367, 0.0035395357, 0.0...</td>\n",
       "    </tr>\n",
       "  </tbody>\n",
       "</table>\n",
       "</div>"
      ],
      "text/plain": [
       "                                                Text label  new_label  \\\n",
       "0   Top Trump Surrogate BRUTALLY Stabs Him In The...  Fake          0   \n",
       "1  U.S. conservative leader optimistic of common ...  Real          1   \n",
       "2  Trump proposes U.S. tax overhaul, stirs concer...  Real          1   \n",
       "3   Court Forces Ohio To Allow Millions Of Illega...  Fake          0   \n",
       "4  Democrats say Trump agrees to work on immigrat...  Real          1   \n",
       "\n",
       "                                              vector  \n",
       "0  [0.008657642, 0.019024342, -0.011917442, 0.032...  \n",
       "1  [0.010864096, 0.007960429, 0.0011915653, 0.014...  \n",
       "2  [0.018134918, 0.0062743523, -0.005872244, 0.03...  \n",
       "3  [0.01255197, 0.012613623, 5.9780963e-05, 0.021...  \n",
       "4  [-0.0019059887, 0.011889367, 0.0035395357, 0.0...  "
      ]
     },
     "execution_count": 38,
     "metadata": {},
     "output_type": "execute_result"
    }
   ],
   "source": [
    "ds.head()"
   ]
  },
  {
   "cell_type": "code",
   "execution_count": 39,
   "id": "e00705ce",
   "metadata": {},
   "outputs": [],
   "source": [
    "from sklearn.model_selection import train_test_split\n",
    "\n",
    "x_train,x_test,y_train,y_test = train_test_split(\n",
    "    ds.vector.values,\n",
    "    ds['new_label'],\n",
    "    test_size = 0.2,\n",
    "    random_state = 2023,\n",
    "    stratify = ds.new_label\n",
    ")"
   ]
  },
  {
   "cell_type": "code",
   "execution_count": 41,
   "id": "c5f5c491",
   "metadata": {},
   "outputs": [],
   "source": [
    "x_train_2d = np.stack(x_train)\n",
    "x_test_2d = np.stack(x_test)"
   ]
  },
  {
   "cell_type": "code",
   "execution_count": 44,
   "id": "e2e16eb2",
   "metadata": {
    "scrolled": true
   },
   "outputs": [
    {
     "data": {
      "text/plain": [
       "array([[ 2.44541420e-03,  5.91477379e-03,  1.17181975e-03,\n",
       "         3.19747888e-02, -2.12402605e-02, -9.13297106e-03,\n",
       "         3.06639802e-02, -7.12550711e-03,  4.57884446e-02,\n",
       "         1.25042927e-02, -3.25509645e-02, -1.58754904e-02,\n",
       "         3.91707174e-04,  2.52333730e-02, -4.13722992e-02,\n",
       "         2.29690094e-02,  2.09285505e-02,  3.63043174e-02,\n",
       "        -1.50277624e-02, -2.63253748e-02,  1.15451533e-02,\n",
       "         8.31385702e-03,  4.37098648e-03, -2.56993761e-03,\n",
       "         6.57546567e-03,  1.48674138e-02, -2.43861340e-02,\n",
       "         1.42336600e-02,  1.22687407e-02,  2.51141470e-03,\n",
       "        -2.52490398e-03, -4.94781183e-03, -1.60317905e-02,\n",
       "        -1.86769702e-02,  1.36444960e-02, -1.46676670e-03,\n",
       "         1.22998878e-02,  1.06353518e-02, -2.28603743e-03,\n",
       "         2.57353280e-02,  1.60010029e-02,  1.07083400e-03,\n",
       "         2.09617801e-02,  1.36004006e-02, -3.21561992e-02,\n",
       "        -3.66902091e-02, -8.29709228e-03,  5.85417217e-03,\n",
       "        -1.96027011e-02,  5.65457158e-03, -1.15403126e-03,\n",
       "         2.24984903e-03, -2.10836418e-02, -1.23560801e-02,\n",
       "        -7.32426008e-04,  9.65172716e-04, -2.88394596e-02,\n",
       "        -1.43166790e-02, -5.31252893e-03, -1.20295621e-02,\n",
       "        -1.46426419e-02,  1.28354551e-02, -2.95985173e-02,\n",
       "        -1.88874379e-02,  1.44413933e-02,  7.52331270e-03,\n",
       "        -1.25461612e-02,  4.56896201e-02, -1.31992735e-02,\n",
       "         1.91663038e-02, -1.85326803e-02,  5.13463095e-03,\n",
       "         3.77105698e-02,  1.23578627e-02, -2.68818196e-02,\n",
       "        -2.46915463e-02,  4.56975400e-03,  2.11826060e-02,\n",
       "         1.66311990e-02,  4.30651307e-02,  7.04309018e-03,\n",
       "        -2.79917456e-02, -5.14245417e-04,  1.67597197e-02,\n",
       "        -1.79727729e-02, -1.06255058e-02, -3.30536477e-02,\n",
       "         3.58448438e-02, -3.71613842e-03, -5.71655482e-03,\n",
       "         4.53434996e-02, -1.15615288e-02, -1.81235117e-03,\n",
       "        -3.29357497e-02, -7.03512039e-03, -1.36715425e-02,\n",
       "         2.39755251e-02,  1.17585640e-02,  1.80793405e-02,\n",
       "        -2.63509620e-02,  2.48368923e-03, -2.12980714e-02,\n",
       "         4.83103935e-03,  1.26848547e-02,  1.95064337e-03,\n",
       "        -1.35860909e-02, -1.23421825e-03, -4.41600755e-02,\n",
       "         8.81387480e-03, -2.70011388e-02, -3.33181536e-03,\n",
       "        -2.90405587e-03, -1.71109494e-02, -1.68658298e-04,\n",
       "         2.92205159e-02,  1.14978263e-02,  2.61463989e-02,\n",
       "        -1.92404967e-02,  3.60343233e-02,  2.48394459e-02,\n",
       "        -3.86989638e-02,  6.88482914e-03, -2.58622300e-02,\n",
       "         4.10494301e-03,  9.52274632e-03, -7.58109428e-03,\n",
       "        -1.45122632e-02, -1.40110748e-02,  2.91628437e-03,\n",
       "         1.31750451e-02, -8.75599915e-04, -3.04813348e-02,\n",
       "        -2.78382860e-02, -2.91272532e-02, -1.95166431e-02,\n",
       "        -2.29752008e-02, -9.74631775e-03,  9.09659732e-03,\n",
       "         1.61570241e-03,  2.53520571e-02,  1.84977520e-02,\n",
       "        -2.56583709e-02, -1.79646979e-03,  2.02955473e-02,\n",
       "         2.98589497e-04, -1.93882026e-02,  1.06297703e-02,\n",
       "        -4.20297775e-03, -2.11501420e-02, -4.77378769e-03,\n",
       "         2.91341413e-02, -1.55920852e-02, -1.55772781e-02,\n",
       "         3.88486055e-03,  1.71328075e-02, -2.20762677e-02,\n",
       "        -1.46716908e-02, -2.98712887e-02, -3.07997353e-02,\n",
       "        -1.34228989e-02, -6.91525638e-03,  2.98811905e-02,\n",
       "         2.32951194e-02, -9.28121619e-03, -8.45329184e-03,\n",
       "        -2.24925987e-02,  1.45917237e-02, -7.75154121e-03,\n",
       "         2.84324549e-02,  6.12808799e-04, -1.06131742e-02,\n",
       "        -1.49702551e-04,  1.58636842e-03, -4.11034375e-02,\n",
       "         2.20853533e-03, -2.84389053e-02,  2.90945992e-02,\n",
       "        -5.22823678e-03, -1.86944492e-02, -8.65898654e-03,\n",
       "        -5.32926470e-02, -2.81673688e-02,  6.52773946e-04,\n",
       "         6.05040975e-03, -7.16976169e-03, -6.83612283e-03,\n",
       "        -1.26670161e-02,  1.64247900e-02,  1.49066383e-02,\n",
       "         2.37838719e-02,  9.37497057e-03, -8.97080358e-03,\n",
       "         1.00979097e-02, -8.89930874e-03, -3.17631774e-02,\n",
       "         8.67831055e-03,  1.61126200e-02, -1.30729098e-02,\n",
       "         8.87961686e-03, -2.55882889e-02, -1.83263179e-02,\n",
       "         3.20130289e-02, -6.79807490e-05, -1.34412022e-02,\n",
       "         2.99892738e-04, -4.93207201e-03, -3.25440150e-03,\n",
       "        -1.86494412e-03,  8.87189806e-03, -4.01610248e-02,\n",
       "         1.06329091e-04,  1.73113905e-02, -6.83238171e-03,\n",
       "         1.35576474e-02, -3.16808335e-02,  4.16028406e-03,\n",
       "         1.02222199e-02,  1.78694278e-02, -2.56128330e-02,\n",
       "        -4.90334397e-03, -7.77206616e-04,  8.26690532e-03,\n",
       "        -1.19482307e-03, -6.18695235e-03,  2.56909784e-02,\n",
       "        -2.84045879e-02,  3.82538885e-02,  1.68994404e-02,\n",
       "         2.14768648e-02,  5.02994051e-03,  1.08141992e-02,\n",
       "         1.48412073e-02,  1.61220711e-02, -5.74785192e-03,\n",
       "        -5.79551002e-03,  1.83422375e-03,  1.01070357e-02,\n",
       "        -1.73824336e-02,  3.32882293e-02, -1.28613114e-02,\n",
       "         6.99932873e-03, -4.81930282e-03,  7.34692859e-03,\n",
       "        -3.84484529e-02, -1.32321613e-02,  2.82374006e-02,\n",
       "         1.52642438e-02,  3.30625400e-02, -1.19697656e-02,\n",
       "        -1.33044859e-02, -7.24860560e-03, -1.05335917e-02,\n",
       "         2.84577312e-04, -5.28329657e-03,  1.20129827e-02,\n",
       "        -4.24980791e-03,  6.99582603e-03,  4.75710211e-03,\n",
       "        -2.21983287e-02, -6.28626440e-03,  5.18195680e-04,\n",
       "         5.00383507e-03, -1.07561275e-02,  2.67781634e-02,\n",
       "         4.69633797e-03,  3.96902859e-02, -2.78938208e-02,\n",
       "        -2.16627494e-02, -2.23902408e-02,  3.03263683e-03,\n",
       "         9.52890608e-03,  2.89922319e-02,  3.11498716e-02,\n",
       "        -3.23056709e-03, -4.03989013e-03, -9.87251941e-03,\n",
       "        -6.22152630e-03, -3.02402545e-02,  6.63052732e-03,\n",
       "        -9.56388842e-03, -1.64146293e-02, -3.54070379e-03,\n",
       "         4.61963285e-03,  3.61244753e-02, -1.33298011e-02,\n",
       "        -1.73259601e-02, -1.09590786e-02,  8.52165744e-03,\n",
       "         3.14894021e-02, -6.07305253e-03,  9.91123728e-04,\n",
       "        -5.64402016e-03, -2.21200380e-02, -8.08438286e-03,\n",
       "        -7.51292799e-03,  1.86561234e-03, -7.50299962e-03,\n",
       "        -4.27790452e-03,  2.41954438e-02, -1.00591881e-02]], dtype=float32)"
      ]
     },
     "execution_count": 44,
     "metadata": {},
     "output_type": "execute_result"
    }
   ],
   "source": [
    "x_train_2d[:1]"
   ]
  },
  {
   "cell_type": "code",
   "execution_count": 46,
   "id": "541ab7bd",
   "metadata": {},
   "outputs": [],
   "source": [
    "from sklearn.ensemble import GradientBoostingClassifier\n",
    "from sklearn.metrics import classification_report"
   ]
  },
  {
   "cell_type": "code",
   "execution_count": 48,
   "id": "215c4018",
   "metadata": {},
   "outputs": [
    {
     "name": "stdout",
     "output_type": "stream",
     "text": [
      "              precision    recall  f1-score   support\n",
      "\n",
      "           0       0.98      0.97      0.98      1000\n",
      "           1       0.97      0.98      0.98       980\n",
      "\n",
      "    accuracy                           0.98      1980\n",
      "   macro avg       0.98      0.98      0.98      1980\n",
      "weighted avg       0.98      0.98      0.98      1980\n",
      "\n"
     ]
    }
   ],
   "source": [
    "model = GradientBoostingClassifier()\n",
    "model.fit(x_train_2d,y_train)\n",
    "\n",
    "y_pred = model.predict(x_test_2d)\n",
    "\n",
    "print(classification_report(y_test,y_pred))"
   ]
  },
  {
   "cell_type": "code",
   "execution_count": 57,
   "id": "ae703ded",
   "metadata": {},
   "outputs": [],
   "source": [
    "from sklearn.metrics import confusion_matrix\n",
    "cm = confusion_matrix(y_test,y_pred)\n"
   ]
  },
  {
   "cell_type": "code",
   "execution_count": 58,
   "id": "4277837f",
   "metadata": {},
   "outputs": [
    {
     "data": {
      "text/plain": [
       "Text(70.72222222222221, 0.5, 'real data')"
      ]
     },
     "execution_count": 58,
     "metadata": {},
     "output_type": "execute_result"
    },
    {
     "data": {
      "image/png": "[encoded data removed]",
      "text/plain": [
       "<Figure size 800x600 with 2 Axes>"
      ]
     },
     "metadata": {},
     "output_type": "display_data"
    }
   ],
   "source": [
    "from matplotlib import pyplot as plt\n",
    "import seaborn as sn\n",
    "plt.figure(figsize = (8,6))\n",
    "sn.heatmap(cm, annot = True,fmt = 'd')\n",
    "plt.xlabel('Prediction')\n",
    "plt.ylabel('real data')"
   ]
  },
  {
   "cell_type": "code",
   "execution_count": null,
   "id": "e87f1370",
   "metadata": {},
   "outputs": [],
   "source": []
  }
 ],
 "metadata": {
  "kernelspec": {
   "display_name": "Python 3 (ipykernel)",
   "language": "python",
   "name": "python3"
  },
  "language_info": {
   "codemirror_mode": {
    "name": "ipython",
    "version": 3
   },
   "file_extension": ".py",
   "mimetype": "text/x-python",
   "name": "python",
   "nbconvert_exporter": "python",
   "pygments_lexer": "ipython3",
   "version": "3.10.9"
  }
 },
 "nbformat": 4,
 "nbformat_minor": 5
}
